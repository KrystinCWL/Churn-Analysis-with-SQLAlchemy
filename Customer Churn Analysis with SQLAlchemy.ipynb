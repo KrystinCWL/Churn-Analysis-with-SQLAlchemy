{
 "cells": [
  {
   "cell_type": "code",
   "execution_count": 1,
   "metadata": {
    "colab": {
     "base_uri": "https://localhost:8080/",
     "height": 0
    },
    "executionInfo": {
     "elapsed": 9112,
     "status": "ok",
     "timestamp": 1743216846467,
     "user": {
      "displayName": "Chen-Wei Lee",
      "userId": "07021334071140124157"
     },
     "user_tz": 240
    },
    "id": "N8s-L-22JsMv",
    "outputId": "9a316421-0441-4e3d-d0b2-08a22c5495c6"
   },
   "outputs": [
    {
     "name": "stdout",
     "output_type": "stream",
     "text": [
      "Requirement already satisfied: sqlalchemy in c:\\users\\sun04\\anaconda3\\lib\\site-packages (2.0.34)\n",
      "Requirement already satisfied: typing-extensions>=4.6.0 in c:\\users\\sun04\\anaconda3\\lib\\site-packages (from sqlalchemy) (4.11.0)\n",
      "Requirement already satisfied: greenlet!=0.4.17 in c:\\users\\sun04\\anaconda3\\lib\\site-packages (from sqlalchemy) (3.0.1)\n"
     ]
    }
   ],
   "source": [
    "!pip install sqlalchemy"
   ]
  },
  {
   "cell_type": "code",
   "execution_count": 2,
   "metadata": {
    "colab": {
     "base_uri": "https://localhost:8080/",
     "height": 0
    },
    "executionInfo": {
     "elapsed": 3918,
     "status": "ok",
     "timestamp": 1743216876883,
     "user": {
      "displayName": "Chen-Wei Lee",
      "userId": "07021334071140124157"
     },
     "user_tz": 240
    },
    "id": "1fc689bd",
    "outputId": "a49a7108-4417-49cb-de9e-f41c452fa41b"
   },
   "outputs": [
    {
     "name": "stdout",
     "output_type": "stream",
     "text": [
      "Dimension of dataset: (12335, 20)\n",
      "<class 'pandas.core.frame.DataFrame'>\n",
      "RangeIndex: 12335 entries, 0 to 12334\n",
      "Data columns (total 20 columns):\n",
      " #   Column                   Non-Null Count  Dtype  \n",
      "---  ------                   --------------  -----  \n",
      " 0   gender                   12335 non-null  object \n",
      " 1   SeniorCitizen            12335 non-null  float64\n",
      " 2   Partner                  12335 non-null  object \n",
      " 3   Dependents               12335 non-null  object \n",
      " 4   tenure                   12335 non-null  float64\n",
      " 5   CallService              12335 non-null  object \n",
      " 6   MultipleConnections      12335 non-null  object \n",
      " 7   InternetConnection       12335 non-null  object \n",
      " 8   OnlineSecurity           12335 non-null  object \n",
      " 9   OnlineBackup             12335 non-null  object \n",
      " 10  DeviceProtectionService  12335 non-null  object \n",
      " 11  TechnicalHelp            12335 non-null  object \n",
      " 12  OnlineTV                 12335 non-null  object \n",
      " 13  OnlineMovies             12335 non-null  object \n",
      " 14  Agreement                12335 non-null  object \n",
      " 15  BillingMethod            12335 non-null  object \n",
      " 16  PaymentMethod            12335 non-null  object \n",
      " 17  MonthlyServiceCharges    12335 non-null  float64\n",
      " 18  TotalAmount              12335 non-null  float64\n",
      " 19  Churn                    12335 non-null  object \n",
      "dtypes: float64(4), object(16)\n",
      "memory usage: 1.9+ MB\n",
      "None\n"
     ]
    },
    {
     "data": {
      "text/plain": [
       "12335"
      ]
     },
     "execution_count": 2,
     "metadata": {},
     "output_type": "execute_result"
    }
   ],
   "source": [
    "# Program to use basic SQL features\n",
    "import sqlalchemy\n",
    "\n",
    "# Reading dataset\n",
    "import pandas\n",
    "churn_data=pandas.read_csv(\"Customer_Churn.csv\")\n",
    "\n",
    "# Determining dimension and size of the dataset\n",
    "print(\"Dimension of dataset:\",churn_data.shape)\n",
    "\n",
    "# Determining details of the columns of the dataset\n",
    "print(churn_data.info())\n",
    "\n",
    "# Establishing connection with SQLite\n",
    "from sqlalchemy import create_engine\n",
    "engine = create_engine('sqlite://', echo=False)\n",
    "\n",
    "# Converting data frame in an SQL format\n",
    "churn_data.to_sql('churn_sql', con=engine)"
   ]
  },
  {
   "cell_type": "code",
   "execution_count": 3,
   "metadata": {
    "colab": {
     "base_uri": "https://localhost:8080/",
     "height": 365
    },
    "executionInfo": {
     "elapsed": 324,
     "status": "ok",
     "timestamp": 1743218733928,
     "user": {
      "displayName": "Chen-Wei Lee",
      "userId": "07021334071140124157"
     },
     "user_tz": 240
    },
    "id": "qxQuGH7qERk3",
    "outputId": "210f832b-3147-4933-eeed-61e7e1a90fde"
   },
   "outputs": [
    {
     "data": {
      "text/html": [
       "<div>\n",
       "<style scoped>\n",
       "    .dataframe tbody tr th:only-of-type {\n",
       "        vertical-align: middle;\n",
       "    }\n",
       "\n",
       "    .dataframe tbody tr th {\n",
       "        vertical-align: top;\n",
       "    }\n",
       "\n",
       "    .dataframe thead th {\n",
       "        text-align: right;\n",
       "    }\n",
       "</style>\n",
       "<table border=\"1\" class=\"dataframe\">\n",
       "  <thead>\n",
       "    <tr style=\"text-align: right;\">\n",
       "      <th></th>\n",
       "      <th>gender</th>\n",
       "      <th>SeniorCitizen</th>\n",
       "      <th>Partner</th>\n",
       "      <th>Dependents</th>\n",
       "      <th>tenure</th>\n",
       "      <th>CallService</th>\n",
       "      <th>MultipleConnections</th>\n",
       "      <th>InternetConnection</th>\n",
       "      <th>OnlineSecurity</th>\n",
       "      <th>OnlineBackup</th>\n",
       "      <th>DeviceProtectionService</th>\n",
       "      <th>TechnicalHelp</th>\n",
       "      <th>OnlineTV</th>\n",
       "      <th>OnlineMovies</th>\n",
       "      <th>Agreement</th>\n",
       "      <th>BillingMethod</th>\n",
       "      <th>PaymentMethod</th>\n",
       "      <th>MonthlyServiceCharges</th>\n",
       "      <th>TotalAmount</th>\n",
       "      <th>Churn</th>\n",
       "    </tr>\n",
       "  </thead>\n",
       "  <tbody>\n",
       "    <tr>\n",
       "      <th>0</th>\n",
       "      <td>Female</td>\n",
       "      <td>0.0</td>\n",
       "      <td>Yes</td>\n",
       "      <td>Yes</td>\n",
       "      <td>11.0</td>\n",
       "      <td>Yes</td>\n",
       "      <td>No</td>\n",
       "      <td>No</td>\n",
       "      <td>No internet service</td>\n",
       "      <td>No internet service</td>\n",
       "      <td>No internet service</td>\n",
       "      <td>No internet service</td>\n",
       "      <td>No internet service</td>\n",
       "      <td>No internet service</td>\n",
       "      <td>One year</td>\n",
       "      <td>No</td>\n",
       "      <td>Mailed check</td>\n",
       "      <td>20.60</td>\n",
       "      <td>233.90</td>\n",
       "      <td>No</td>\n",
       "    </tr>\n",
       "    <tr>\n",
       "      <th>1</th>\n",
       "      <td>Female</td>\n",
       "      <td>0.0</td>\n",
       "      <td>No</td>\n",
       "      <td>No</td>\n",
       "      <td>67.0</td>\n",
       "      <td>No</td>\n",
       "      <td>No phone service</td>\n",
       "      <td>DSL</td>\n",
       "      <td>No</td>\n",
       "      <td>No</td>\n",
       "      <td>Yes</td>\n",
       "      <td>Yes</td>\n",
       "      <td>Yes</td>\n",
       "      <td>Yes</td>\n",
       "      <td>Month-to-month</td>\n",
       "      <td>Yes</td>\n",
       "      <td>Credit card (automatic)</td>\n",
       "      <td>53.40</td>\n",
       "      <td>3579.15</td>\n",
       "      <td>No</td>\n",
       "    </tr>\n",
       "    <tr>\n",
       "      <th>2</th>\n",
       "      <td>Female</td>\n",
       "      <td>0.0</td>\n",
       "      <td>Yes</td>\n",
       "      <td>No</td>\n",
       "      <td>59.0</td>\n",
       "      <td>Yes</td>\n",
       "      <td>No</td>\n",
       "      <td>No</td>\n",
       "      <td>No internet service</td>\n",
       "      <td>No internet service</td>\n",
       "      <td>No internet service</td>\n",
       "      <td>No internet service</td>\n",
       "      <td>No internet service</td>\n",
       "      <td>No internet service</td>\n",
       "      <td>Two year</td>\n",
       "      <td>No</td>\n",
       "      <td>Bank transfer (automatic)</td>\n",
       "      <td>18.40</td>\n",
       "      <td>1057.85</td>\n",
       "      <td>No</td>\n",
       "    </tr>\n",
       "    <tr>\n",
       "      <th>3</th>\n",
       "      <td>Male</td>\n",
       "      <td>0.0</td>\n",
       "      <td>Yes</td>\n",
       "      <td>Yes</td>\n",
       "      <td>67.0</td>\n",
       "      <td>Yes</td>\n",
       "      <td>Yes</td>\n",
       "      <td>No</td>\n",
       "      <td>No internet service</td>\n",
       "      <td>No internet service</td>\n",
       "      <td>No internet service</td>\n",
       "      <td>No internet service</td>\n",
       "      <td>No internet service</td>\n",
       "      <td>No internet service</td>\n",
       "      <td>Two year</td>\n",
       "      <td>No</td>\n",
       "      <td>Mailed check</td>\n",
       "      <td>26.30</td>\n",
       "      <td>1688.90</td>\n",
       "      <td>No</td>\n",
       "    </tr>\n",
       "    <tr>\n",
       "      <th>4</th>\n",
       "      <td>Female</td>\n",
       "      <td>0.0</td>\n",
       "      <td>No</td>\n",
       "      <td>No</td>\n",
       "      <td>11.0</td>\n",
       "      <td>Yes</td>\n",
       "      <td>Yes</td>\n",
       "      <td>Fiber optic</td>\n",
       "      <td>No</td>\n",
       "      <td>No</td>\n",
       "      <td>No</td>\n",
       "      <td>No</td>\n",
       "      <td>No</td>\n",
       "      <td>No</td>\n",
       "      <td>Month-to-month</td>\n",
       "      <td>No</td>\n",
       "      <td>Electronic check</td>\n",
       "      <td>75.25</td>\n",
       "      <td>888.65</td>\n",
       "      <td>No</td>\n",
       "    </tr>\n",
       "  </tbody>\n",
       "</table>\n",
       "</div>"
      ],
      "text/plain": [
       "   gender  SeniorCitizen Partner Dependents  tenure CallService  \\\n",
       "0  Female            0.0     Yes        Yes    11.0         Yes   \n",
       "1  Female            0.0      No         No    67.0          No   \n",
       "2  Female            0.0     Yes         No    59.0         Yes   \n",
       "3    Male            0.0     Yes        Yes    67.0         Yes   \n",
       "4  Female            0.0      No         No    11.0         Yes   \n",
       "\n",
       "  MultipleConnections InternetConnection       OnlineSecurity  \\\n",
       "0                  No                 No  No internet service   \n",
       "1    No phone service                DSL                   No   \n",
       "2                  No                 No  No internet service   \n",
       "3                 Yes                 No  No internet service   \n",
       "4                 Yes        Fiber optic                   No   \n",
       "\n",
       "          OnlineBackup DeviceProtectionService        TechnicalHelp  \\\n",
       "0  No internet service     No internet service  No internet service   \n",
       "1                   No                     Yes                  Yes   \n",
       "2  No internet service     No internet service  No internet service   \n",
       "3  No internet service     No internet service  No internet service   \n",
       "4                   No                      No                   No   \n",
       "\n",
       "              OnlineTV         OnlineMovies       Agreement BillingMethod  \\\n",
       "0  No internet service  No internet service        One year            No   \n",
       "1                  Yes                  Yes  Month-to-month           Yes   \n",
       "2  No internet service  No internet service        Two year            No   \n",
       "3  No internet service  No internet service        Two year            No   \n",
       "4                   No                   No  Month-to-month            No   \n",
       "\n",
       "               PaymentMethod  MonthlyServiceCharges  TotalAmount Churn  \n",
       "0               Mailed check                  20.60       233.90    No  \n",
       "1    Credit card (automatic)                  53.40      3579.15    No  \n",
       "2  Bank transfer (automatic)                  18.40      1057.85    No  \n",
       "3               Mailed check                  26.30      1688.90    No  \n",
       "4           Electronic check                  75.25       888.65    No  "
      ]
     },
     "execution_count": 3,
     "metadata": {},
     "output_type": "execute_result"
    }
   ],
   "source": [
    "# check the data\n",
    "churn_data.head()"
   ]
  },
  {
   "cell_type": "code",
   "execution_count": 4,
   "metadata": {
    "colab": {
     "base_uri": "https://localhost:8080/",
     "height": 0
    },
    "executionInfo": {
     "elapsed": 14,
     "status": "ok",
     "timestamp": 1743216970144,
     "user": {
      "displayName": "Chen-Wei Lee",
      "userId": "07021334071140124157"
     },
     "user_tz": 240
    },
    "id": "x1rq0Uwe0fh2",
    "outputId": "d0779928-4614-4124-8cd1-292af04d9cbd"
   },
   "outputs": [
    {
     "name": "stdout",
     "output_type": "stream",
     "text": [
      "Displaying 5 records:\n",
      "(0, 'Female', 0.0, 'Yes', 'Yes', 11.0, 'Yes', 'No', 'No', 'No internet service', 'No internet service', 'No internet service', 'No internet service', 'No internet service', 'No internet service', 'One year', 'No', 'Mailed check', 20.6, 233.9, 'No')\n",
      "(1, 'Female', 0.0, 'No', 'No', 67.0, 'No', 'No phone service', 'DSL', 'No', 'No', 'Yes', 'Yes', 'Yes', 'Yes', 'Month-to-month', 'Yes', 'Credit card (automatic)', 53.4, 3579.15, 'No')\n",
      "(2, 'Female', 0.0, 'Yes', 'No', 59.0, 'Yes', 'No', 'No', 'No internet service', 'No internet service', 'No internet service', 'No internet service', 'No internet service', 'No internet service', 'Two year', 'No', 'Bank transfer (automatic)', 18.4, 1057.85, 'No')\n",
      "(3, 'Male', 0.0, 'Yes', 'Yes', 67.0, 'Yes', 'Yes', 'No', 'No internet service', 'No internet service', 'No internet service', 'No internet service', 'No internet service', 'No internet service', 'Two year', 'No', 'Mailed check', 26.3, 1688.9, 'No')\n",
      "(4, 'Female', 0.0, 'No', 'No', 11.0, 'Yes', 'Yes', 'Fiber optic', 'No', 'No', 'No', 'No', 'No', 'No', 'Month-to-month', 'No', 'Electronic check', 75.25, 888.65, 'No')\n"
     ]
    }
   ],
   "source": [
    "from sqlalchemy import text\n",
    "\n",
    "with engine.connect() as conn:\n",
    "  show = conn.execute(text(\" SELECT * FROM churn_sql LIMIT 5 \")).fetchall()\n",
    "  print(\"Displaying 5 records:\")\n",
    "  for i in show:\n",
    "    print(i)"
   ]
  },
  {
   "cell_type": "markdown",
   "metadata": {
    "id": "ab1F7R21T0fj"
   },
   "source": [
    "## Q1\n",
    "Consider senior citizen, male and churned customers whose tenure is greater than 60.\n",
    "\n",
    "What is the average Monthly Charges for customers having “DSL”\n",
    "Internet connection?"
   ]
  },
  {
   "cell_type": "code",
   "execution_count": 5,
   "metadata": {
    "colab": {
     "base_uri": "https://localhost:8080/"
    },
    "executionInfo": {
     "elapsed": 33,
     "status": "ok",
     "timestamp": 1743108550470,
     "user": {
      "displayName": "Chen-Wei Lee",
      "userId": "07021334071140124157"
     },
     "user_tz": 240
    },
    "id": "vHXOhDF-T0fm",
    "outputId": "f94358d3-d336-4f1c-ebab-c7b45437bd49"
   },
   "outputs": [
    {
     "name": "stdout",
     "output_type": "stream",
     "text": [
      "Displaying the average Monthly Charges for customers having “DSL” Internet connection:\n",
      "(76.05276750166666,)\n"
     ]
    }
   ],
   "source": [
    "# Save the SQL query command into query1\n",
    "\n",
    "query1 = \"\"\"\n",
    "SELECT AVG(MonthlyServiceCharges)\n",
    "FROM churn_sql\n",
    "WHERE SeniorCitizen = 1\n",
    "  AND gender = 'Male'\n",
    "  AND Churn = 'Yes'\n",
    "  AND tenure > 60\n",
    "  AND InternetConnection = 'DSL'\n",
    "\"\"\"\n",
    "\n",
    "with engine.connect() as conn:\n",
    "  ans1 = conn.execute(text(query1)).fetchall()\n",
    "  print(\"Displaying the average Monthly Charges for customers having “DSL” Internet connection:\")\n",
    "  for i in ans1:\n",
    "    print(i)"
   ]
  },
  {
   "cell_type": "markdown",
   "metadata": {
    "id": "feIH7f_OCmJg"
   },
   "source": [
    "## Q2\n",
    "Consider the customers who have dependents and partner and have opted for call service.\n",
    "\n",
    "What is the average amount for customers having “Mailed Check” as payment method and “One year” as agreement?\n",
    "\n",
    "p.s. Since the question did not describe clear which amount to calculate, I printed 2 different results of amount."
   ]
  },
  {
   "cell_type": "code",
   "execution_count": 6,
   "metadata": {
    "colab": {
     "base_uri": "https://localhost:8080/",
     "height": 0
    },
    "executionInfo": {
     "elapsed": 10,
     "status": "ok",
     "timestamp": 1743217124636,
     "user": {
      "displayName": "Chen-Wei Lee",
      "userId": "07021334071140124157"
     },
     "user_tz": 240
    },
    "id": "YJ0KbuylKWn8",
    "outputId": "ae99db74-566b-447a-fdf0-ed68cd119fc7"
   },
   "outputs": [
    {
     "name": "stdout",
     "output_type": "stream",
     "text": [
      "Displaying the average total amount for customers having “Mailed Check” as payment method and “One year” as agreement:\n",
      "(1208.3856143694086,)\n"
     ]
    }
   ],
   "source": [
    "# Save the SQL query command into query2: take TotalAmount as the amount in the statement of question\n",
    "\n",
    "query2 = \"\"\"\n",
    "SELECT AVG(TotalAmount) AS avg_total_amount\n",
    "FROM churn_sql\n",
    "WHERE Dependents == 'Yes'\n",
    "  AND Partner == 'Yes'\n",
    "  AND CallService == 'Yes'\n",
    "  AND PaymentMethod == 'Mailed check'\n",
    "  AND Agreement == 'One year'\n",
    "\"\"\"\n",
    "\n",
    "with engine.connect() as conn:\n",
    "  ans2 = conn.execute(text(query2)).fetchall()\n",
    "  print(\"Displaying the average total amount for customers having “Mailed Check” as payment method and “One year” as agreement:\")\n",
    "  for i in ans2:\n",
    "    print(i)"
   ]
  },
  {
   "cell_type": "code",
   "execution_count": 7,
   "metadata": {
    "colab": {
     "base_uri": "https://localhost:8080/"
    },
    "executionInfo": {
     "elapsed": 12,
     "status": "ok",
     "timestamp": 1743122100414,
     "user": {
      "displayName": "Chen-Wei Lee",
      "userId": "07021334071140124157"
     },
     "user_tz": 240
    },
    "id": "9efc52ae",
    "outputId": "1a09f5bb-b52f-41d7-9a95-da45ad7a676a"
   },
   "outputs": [
    {
     "name": "stdout",
     "output_type": "stream",
     "text": [
      "Displaying the average monthly service charges for customers having “Mailed Check” as payment method and “One year” as agreement:\n",
      "(44.162331644354836,)\n"
     ]
    }
   ],
   "source": [
    "# Save the SQL query command into query2: take MonthlyServiceCharges as the amount in the statement of question\n",
    "\n",
    "query2 = \"\"\"\n",
    "SELECT AVG(MonthlyServiceCharges) AS avg_monthly_charges\n",
    "FROM churn_sql\n",
    "WHERE Dependents = 'Yes'\n",
    "  AND Partner = 'Yes'\n",
    "  AND CallService = 'Yes'\n",
    "  AND PaymentMethod = 'Mailed check'\n",
    "  AND Agreement = 'One year'\n",
    "\"\"\"\n",
    "\n",
    "with engine.connect() as conn:\n",
    "  ans2 = conn.execute(text(query2)).fetchall()\n",
    "  print(\"Displaying the average monthly service charges for customers having “Mailed Check” as payment method and “One year” as agreement:\")\n",
    "  for i in ans2:\n",
    "    print(i)"
   ]
  },
  {
   "cell_type": "markdown",
   "metadata": {
    "id": "bruAEkdzX7Po"
   },
   "source": [
    "## Q3\n",
    "Consider the male and senior citizen customers whose tenure is less than 20 and have multiple connections.\n",
    "\n",
    "What is the total Monthly Service Charges of customers for each billing methods (Yes/No)?"
   ]
  },
  {
   "cell_type": "code",
   "execution_count": 8,
   "metadata": {
    "colab": {
     "base_uri": "https://localhost:8080/"
    },
    "executionInfo": {
     "elapsed": 42,
     "status": "ok",
     "timestamp": 1743109338140,
     "user": {
      "displayName": "Chen-Wei Lee",
      "userId": "07021334071140124157"
     },
     "user_tz": 240
    },
    "id": "h8BOJJzdX7P0",
    "outputId": "61857cfd-7b11-4802-b4dc-2203d5ca5c9c"
   },
   "outputs": [
    {
     "name": "stdout",
     "output_type": "stream",
     "text": [
      "Displaying the total Monthly Service Charges of customers for each billing methods (Yes/No):\n",
      "('No', 1230.71945864)\n",
      "('Yes', 7906.29044558)\n"
     ]
    }
   ],
   "source": [
    "# Save the SQL query command into query3\n",
    "\n",
    "query3 = \"\"\"\n",
    "SELECT BillingMethod, SUM(MonthlyServiceCharges)\n",
    "FROM churn_sql\n",
    "WHERE gender = 'Male'\n",
    "  AND SeniorCitizen = 1\n",
    "  AND tenure < 20\n",
    "  AND MultipleConnections = 'Yes'\n",
    "GROUP BY BillingMethod\n",
    "\"\"\"\n",
    "\n",
    "with engine.connect() as conn:\n",
    "  ans3 = conn.execute(text(query3)).fetchall()\n",
    "  print(\"Displaying the total Monthly Service Charges of customers for each billing methods (Yes/No):\")\n",
    "  for i in ans3:\n",
    "    print(i)"
   ]
  },
  {
   "cell_type": "markdown",
   "metadata": {
    "id": "4RzSIU__bJWb"
   },
   "source": [
    "## Q4\n",
    "Consider the customers who have monthly service charges greater than 100.\n",
    "\n",
    "How many male and female customers has dependents and no dependents?"
   ]
  },
  {
   "cell_type": "code",
   "execution_count": 9,
   "metadata": {
    "colab": {
     "base_uri": "https://localhost:8080/"
    },
    "executionInfo": {
     "elapsed": 20,
     "status": "ok",
     "timestamp": 1743110170109,
     "user": {
      "displayName": "Chen-Wei Lee",
      "userId": "07021334071140124157"
     },
     "user_tz": 240
    },
    "id": "oSCUeWcNbJWe",
    "outputId": "d1214cf5-cd78-46c5-cfc7-4371e04b52e7"
   },
   "outputs": [
    {
     "name": "stdout",
     "output_type": "stream",
     "text": [
      "Displaying the count of male and female customers has dependents and no dependents:\n",
      "('Female', 'No', 438)\n",
      "('Female', 'Yes', 183)\n",
      "('Male', 'No', 389)\n",
      "('Male', 'Yes', 182)\n"
     ]
    }
   ],
   "source": [
    "# Save the SQL query command into query4\n",
    "\n",
    "query4 = \"\"\"\n",
    "SELECT gender, Dependents, COUNT(*)\n",
    "FROM churn_sql\n",
    "WHERE MonthlyServiceCharges > 100\n",
    "GROUP BY gender, Dependents\n",
    "\"\"\"\n",
    "\n",
    "with engine.connect() as conn:\n",
    "  ans4 = conn.execute(text(query4)).fetchall()\n",
    "  print(\"Displaying the count of male and female customers has dependents and no dependents:\")\n",
    "  for i in ans4:\n",
    "    print(i)"
   ]
  },
  {
   "cell_type": "markdown",
   "metadata": {
    "id": "lU0x-y43d8Xz"
   },
   "source": [
    "## Q5\n",
    "Consider only female customers who have no dependents and has done call service and has preferred electronic check method.\n",
    "\n",
    "How many customers have churned and not churned?"
   ]
  },
  {
   "cell_type": "code",
   "execution_count": 10,
   "metadata": {
    "colab": {
     "base_uri": "https://localhost:8080/"
    },
    "executionInfo": {
     "elapsed": 12,
     "status": "ok",
     "timestamp": 1743120990855,
     "user": {
      "displayName": "Chen-Wei Lee",
      "userId": "07021334071140124157"
     },
     "user_tz": 240
    },
    "id": "22xYK4drd8Xz",
    "outputId": "91dd2363-5d49-4759-e84a-f93c7c01e3e9"
   },
   "outputs": [
    {
     "name": "stdout",
     "output_type": "stream",
     "text": [
      "Displaying the count of customers have churned and not churned:\n",
      "('No', 566)\n",
      "('Yes', 718)\n"
     ]
    }
   ],
   "source": [
    "# Save the SQL query command into query5\n",
    "\n",
    "query5 = \"\"\"\n",
    "SELECT Churn, COUNT(*)\n",
    "FROM churn_sql\n",
    "WHERE gender = 'Female'\n",
    "  AND Dependents = 'No'\n",
    "  AND CallService = 'Yes'\n",
    "  AND PaymentMethod = 'Electronic check'\n",
    "GROUP BY Churn\n",
    "\"\"\"\n",
    "\n",
    "with engine.connect() as conn:\n",
    "  ans5 = conn.execute(text(query5)).fetchall()\n",
    "  print(\"Displaying the count of customers have churned and not churned:\")\n",
    "  for i in ans5:\n",
    "    print(i)"
   ]
  },
  {
   "cell_type": "markdown",
   "metadata": {
    "id": "EkwKwrOE98Mo"
   },
   "source": [
    "## Q6\n",
    "Consider the customers who have call service and has preferred either electronic check method or mailed check method.\n",
    "\n",
    "How many male and female customers have no dependents and have multiple connections?"
   ]
  },
  {
   "cell_type": "code",
   "execution_count": 11,
   "metadata": {
    "colab": {
     "base_uri": "https://localhost:8080/",
     "height": 0
    },
    "executionInfo": {
     "elapsed": 13,
     "status": "ok",
     "timestamp": 1743217843402,
     "user": {
      "displayName": "Chen-Wei Lee",
      "userId": "07021334071140124157"
     },
     "user_tz": 240
    },
    "id": "9i7jBLcL98Mq",
    "outputId": "c6ce3f82-0443-4563-b276-f4d5c21f4ef1"
   },
   "outputs": [
    {
     "name": "stdout",
     "output_type": "stream",
     "text": [
      "Displaying the count of male and female customers have no dependents and have multiple connections:\n",
      "('Female', 858)\n",
      "('Male', 858)\n"
     ]
    }
   ],
   "source": [
    "# Save the SQL query command into query6\n",
    "\n",
    "query6 = \"\"\"\n",
    "SELECT gender, COUNT(*)\n",
    "FROM churn_sql\n",
    "WHERE CallService == 'Yes'\n",
    "  AND PaymentMethod IN ('Electronic check', 'Mailed check')\n",
    "  AND Dependents == 'No'\n",
    "  AND MultipleConnections == 'Yes'\n",
    "GROUP BY gender\n",
    "\"\"\"\n",
    "\n",
    "with engine.connect() as conn:\n",
    "  ans6 = conn.execute(text(query6)).fetchall()\n",
    "  print(\"Displaying the count of male and female customers have no dependents and have multiple connections:\")\n",
    "  for i in ans6:\n",
    "    print(i)"
   ]
  },
  {
   "cell_type": "markdown",
   "metadata": {
    "id": "H1JPiR4ZEX59"
   },
   "source": [
    "## Q7\n",
    "Consider the customers who have call service and has preferred either electronic check method or mailed check method.\n",
    "\n",
    "What is the average tenure of male and female customers who have no dependents and have partners?"
   ]
  },
  {
   "cell_type": "code",
   "execution_count": 12,
   "metadata": {
    "colab": {
     "base_uri": "https://localhost:8080/",
     "height": 0
    },
    "executionInfo": {
     "elapsed": 12,
     "status": "ok",
     "timestamp": 1743217642049,
     "user": {
      "displayName": "Chen-Wei Lee",
      "userId": "07021334071140124157"
     },
     "user_tz": 240
    },
    "id": "F9EDt1UDEX5_",
    "outputId": "088fc87e-18bb-48fe-fe12-605aefe7e485"
   },
   "outputs": [
    {
     "name": "stdout",
     "output_type": "stream",
     "text": [
      "Displaying the average tenure of male and female customers who have no dependents and have partners:\n",
      "('Female', 28.317125575533154)\n",
      "('Male', 28.692303729244728)\n"
     ]
    }
   ],
   "source": [
    "# Save the SQL query command into query7\n",
    "\n",
    "query7 = \"\"\"\n",
    "SELECT gender, AVG(tenure)\n",
    "FROM churn_sql\n",
    "WHERE CallService = 'Yes'\n",
    "  AND PaymentMethod IN ('Electronic check', 'Mailed check')\n",
    "  AND Dependents = 'No'\n",
    "  AND Partner = 'Yes'\n",
    "GROUP BY gender\n",
    "\"\"\"\n",
    "\n",
    "with engine.connect() as conn:\n",
    "  ans7 = conn.execute(text(query7)).fetchall()\n",
    "  print(\"Displaying the average tenure of male and female customers who have no dependents and have partners:\")\n",
    "  for i in ans7:\n",
    "    print(i)"
   ]
  },
  {
   "cell_type": "markdown",
   "metadata": {
    "id": "YMECOY29FH2C"
   },
   "source": [
    "## Q8\n",
    "Consider only those customers who have agreement for one year or two-year only.\n",
    "\n",
    "What are the maximum monthly service charges of customers who have done payment by electronic check method?"
   ]
  },
  {
   "cell_type": "code",
   "execution_count": 13,
   "metadata": {
    "colab": {
     "base_uri": "https://localhost:8080/"
    },
    "executionInfo": {
     "elapsed": 45,
     "status": "ok",
     "timestamp": 1743121179498,
     "user": {
      "displayName": "Chen-Wei Lee",
      "userId": "07021334071140124157"
     },
     "user_tz": 240
    },
    "id": "tI2evOEsFH2F",
    "outputId": "a4284650-ed0f-4c76-ecfd-f2ec2ea4670f"
   },
   "outputs": [
    {
     "name": "stdout",
     "output_type": "stream",
     "text": [
      "Displaying the maximum monthly service charges of customers who have done payment by electronic check method:\n",
      "(118.65,)\n"
     ]
    }
   ],
   "source": [
    "# Save the SQL query command into query8\n",
    "\n",
    "query8 = \"\"\"\n",
    "SELECT MAX(MonthlyServiceCharges)\n",
    "FROM churn_sql\n",
    "WHERE Agreement IN ('One year', 'Two year')\n",
    "  AND PaymentMethod = 'Electronic check'\n",
    "\"\"\"\n",
    "\n",
    "with engine.connect() as conn:\n",
    "  ans8 = conn.execute(text(query8)).fetchall()\n",
    "  print(\"Displaying the maximum monthly service charges of customers who have done payment by electronic check method:\")\n",
    "  for i in ans8:\n",
    "    print(i)"
   ]
  },
  {
   "cell_type": "markdown",
   "metadata": {
    "id": "V2qkLAbbG7co"
   },
   "source": [
    "## Q9\n",
    "Consider only those customers who have no internet connection, no online security no online backup and no device protection service.\n",
    "\n",
    "What is the minimum total amount of male and female customers having one year or two-year agreement type?"
   ]
  },
  {
   "cell_type": "code",
   "execution_count": 14,
   "metadata": {
    "colab": {
     "base_uri": "https://localhost:8080/"
    },
    "executionInfo": {
     "elapsed": 49,
     "status": "ok",
     "timestamp": 1743122415961,
     "user": {
      "displayName": "Chen-Wei Lee",
      "userId": "07021334071140124157"
     },
     "user_tz": 240
    },
    "id": "mWUJwKDgG7cr",
    "outputId": "21cc3035-3fdc-4729-dac9-0af7f0b79376"
   },
   "outputs": [
    {
     "name": "stdout",
     "output_type": "stream",
     "text": [
      "Displaying the minimum total amount of male and female customers having one year or two-year agreement type:\n",
      "('Female', 69.21978888)\n",
      "('Male', 59.02463086)\n"
     ]
    }
   ],
   "source": [
    "# Save the SQL query command into query9\n",
    "\n",
    "query9 = \"\"\"\n",
    "SELECT gender, MIN(TotalAmount)\n",
    "FROM churn_sql\n",
    "WHERE InternetConnection = 'No'\n",
    "  AND OnlineSecurity = 'No'\n",
    "  AND OnlineBackup = 'No'\n",
    "  AND DeviceProtectionService = 'No'\n",
    "  AND Agreement IN ('One year', 'Two year')\n",
    "GROUP BY gender\n",
    "\"\"\"\n",
    "\n",
    "with engine.connect() as conn:\n",
    "  ans9 = conn.execute(text(query9)).fetchall()\n",
    "  print(\"Displaying the minimum total amount of male and female customers having one year or two-year agreement type:\")\n",
    "  for i in ans9:\n",
    "    print(i)"
   ]
  },
  {
   "cell_type": "markdown",
   "metadata": {
    "id": "F1ErlAwoH7I9"
   },
   "source": [
    "## Q10\n",
    "What is the average total amount of male and female customers having partner and no partner?"
   ]
  },
  {
   "cell_type": "code",
   "execution_count": 15,
   "metadata": {
    "colab": {
     "base_uri": "https://localhost:8080/"
    },
    "executionInfo": {
     "elapsed": 32,
     "status": "ok",
     "timestamp": 1743122515849,
     "user": {
      "displayName": "Chen-Wei Lee",
      "userId": "07021334071140124157"
     },
     "user_tz": 240
    },
    "id": "lX_9xwdOH7JA",
    "outputId": "66ec0fc8-90f8-4091-94f7-54683dac69c2"
   },
   "outputs": [
    {
     "name": "stdout",
     "output_type": "stream",
     "text": [
      "Displaying the average total amount of male and female customers having partner and no partner:\n",
      "('Female', 'No', 1518.4620026496038)\n",
      "('Female', 'Yes', 2521.0487082184795)\n",
      "('Male', 'No', 1496.7034509200557)\n",
      "('Male', 'Yes', 2572.5751566592467)\n"
     ]
    }
   ],
   "source": [
    "# Save the SQL query command into query10\n",
    "\n",
    "query10 = \"\"\"\n",
    "SELECT gender, Partner, AVG(TotalAmount)\n",
    "FROM churn_sql\n",
    "GROUP BY gender, Partner\n",
    "\"\"\"\n",
    "\n",
    "with engine.connect() as conn:\n",
    "  ans10 = conn.execute(text(query10)).fetchall()\n",
    "  print(\"Displaying the average total amount of male and female customers having partner and no partner:\")\n",
    "  for i in ans10:\n",
    "    print(i)"
   ]
  }
 ],
 "metadata": {
  "colab": {
   "authorship_tag": "ABX9TyNwbNei3mTcBTDvRCWxPcc8",
   "provenance": []
  },
  "kernelspec": {
   "display_name": "Python 3 (ipykernel)",
   "language": "python",
   "name": "python3"
  },
  "language_info": {
   "codemirror_mode": {
    "name": "ipython",
    "version": 3
   },
   "file_extension": ".py",
   "mimetype": "text/x-python",
   "name": "python",
   "nbconvert_exporter": "python",
   "pygments_lexer": "ipython3",
   "version": "3.12.7"
  }
 },
 "nbformat": 4,
 "nbformat_minor": 4
}
